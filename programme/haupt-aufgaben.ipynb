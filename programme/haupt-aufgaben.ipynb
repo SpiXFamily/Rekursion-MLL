{
 "cells": [
  {
   "cell_type": "code",
   "execution_count": 10,
   "metadata": {},
   "outputs": [
    {
     "name": "stdout",
     "output_type": "stream",
     "text": [
      "A->B\n",
      "A->C\n",
      "B->C\n",
      "A->B\n",
      "C->A\n",
      "C->B\n",
      "A->B\n",
      "A->C\n",
      "B->C\n",
      "B->A\n",
      "C->A\n",
      "B->C\n",
      "A->B\n",
      "A->C\n",
      "B->C\n"
     ]
    }
   ],
   "source": [
    "def hanoi(n, start, end, helper): \n",
    "\tif n == 1:\n",
    "\t\tprint(start + \"->\" + end)  \n",
    "\telse:\n",
    "\t\thanoi(n-1, start, helper, end)\n",
    "\t\tprint(start + \"->\" + end)\n",
    "\t\thanoi(n-1, helper, end, start)\n",
    "\t\t\n",
    "def user_input():\n",
    "\treturn int(input())\n",
    "\t\t\n",
    "if __name__ == \"__main__\": \n",
    "\tn = user_input()\n",
    "\thanoi(n, 'A', 'C', 'B') "
   ]
  },
  {
   "cell_type": "code",
   "execution_count": null,
   "metadata": {},
   "outputs": [],
   "source": [
    "\n"
   ]
  },
  {
   "cell_type": "code",
   "execution_count": 11,
   "metadata": {},
   "outputs": [
    {
     "name": "stdout",
     "output_type": "stream",
     "text": [
      "a_5 = 8\n"
     ]
    }
   ],
   "source": [
    "n=5\n",
    "def Fibo (n):\n",
    "    if n==0:\n",
    "        return 1\n",
    "    if n==1:\n",
    "        return 1\n",
    "    else: \n",
    "        n=Fibo(n-1)+Fibo(n-2) \n",
    "        return n\n",
    "print(\"a_\"+str(n)+\" =\", Fibo(n))"
   ]
  },
  {
   "cell_type": "code",
   "execution_count": null,
   "metadata": {},
   "outputs": [],
   "source": []
  }
 ],
 "metadata": {
  "kernelspec": {
   "display_name": "default",
   "language": "python",
   "name": "python3"
  },
  "language_info": {
   "codemirror_mode": {
    "name": "ipython",
    "version": 3
   },
   "file_extension": ".py",
   "mimetype": "text/x-python",
   "name": "python",
   "nbconvert_exporter": "python",
   "pygments_lexer": "ipython3",
   "version": "3.12.7"
  }
 },
 "nbformat": 4,
 "nbformat_minor": 2
}
