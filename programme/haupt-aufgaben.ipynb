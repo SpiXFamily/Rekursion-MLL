{
 "cells": [
  {
   "cell_type": "code",
   "execution_count": 4,
   "metadata": {},
   "outputs": [
    {
     "ename": "IndentationError",
     "evalue": "unindent does not match any outer indentation level (<string>, line 9)",
     "output_type": "error",
     "traceback": [
      "\u001b[0;36m  File \u001b[0;32m<string>:9\u001b[0;36m\u001b[0m\n\u001b[0;31m    def user_input():\u001b[0m\n\u001b[0m                     ^\u001b[0m\n\u001b[0;31mIndentationError\u001b[0m\u001b[0;31m:\u001b[0m unindent does not match any outer indentation level\n"
     ]
    }
   ],
   "source": [
    "def hanoi(n, start, end, helper): \n",
    "    if n == 1:\n",
    "        print(start + \" -> \" + end)  \n",
    "    else:\n",
    "        hanoi(n - 1, start, helper, end)\n",
    "        print(start + \" -> \" + end)\n",
    "        hanoi(n - 1, helper, end, start)\n",
    "\n",
    "def user_input():\n",
    "    return int(input(\"Gebe anzahl der Scheiben an: \"))\n",
    "\n",
    "if __name__ == \"__main__\": \n",
    "    n = user_input()\n",
    "    hanoi(n, 'A', 'C', 'B')"
   ]
  },
  {
   "cell_type": "code",
   "execution_count": 2,
   "metadata": {},
   "outputs": [
    {
     "name": "stdout",
     "output_type": "stream",
     "text": [
      "a_ 5 = 8\n"
     ]
    }
   ],
   "source": [
    "n=5\n",
    "def Fibo (n):\n",
    "    if n==0:\n",
    "        return 1\n",
    "    if n==1:\n",
    "        return 1\n",
    "    else: \n",
    "        n=Fibo(n-1)+Fibo(n-2) \n",
    "        return n\n",
    "print(\"a_\",n,\"=\", Fibo(n))"
   ]
  },
  {
   "cell_type": "code",
   "execution_count": null,
   "metadata": {},
   "outputs": [],
   "source": []
  }
 ],
 "metadata": {
  "kernelspec": {
   "display_name": "default",
   "language": "python",
   "name": "python3"
  },
  "language_info": {
   "codemirror_mode": {
    "name": "ipython",
    "version": 3
   },
   "file_extension": ".py",
   "mimetype": "text/x-python",
   "name": "python",
   "nbconvert_exporter": "python",
   "pygments_lexer": "ipython3",
   "version": "3.12.7"
  }
 },
 "nbformat": 4,
 "nbformat_minor": 2
}
