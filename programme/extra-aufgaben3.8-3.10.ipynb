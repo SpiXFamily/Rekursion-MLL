{
 "cells": [
  {
   "cell_type": "markdown",
   "metadata": {},
   "source": [
    "# Aufgabe 3.8 \n",
    "Finden eine rekursive Formel für die Wahrscheinlichkeit, dass n Personen alle an\n",
    "verschiedenen Tagen im Jahr Geburtstag haben.  Dabei können wir vereinfachend davon ausgehen,\n",
    "dass das Jahr 365 Tage hat und die sich die Geburtstage rein zufällig auf die diese 365 Tage\n",
    "verteilen. \n",
    "## Ansatz:\n",
    "$ \n",
    "P_{n} = \\frac{365}{365} \\cdot \\frac{364}{365} \\cdot \\frac{363}{365} \\cdot \\frac{362}{365} ... \\frac{365 - n + 1}{365} $ \n",
    "\n",
    "Allgemein gilt für n Personen: $P(n)  = P(n- 1) \\cdot \\frac{364 - (n -1)}{365}$"
   ]
  },
  {
   "cell_type": "code",
   "execution_count": 36,
   "metadata": {},
   "outputs": [
    {
     "name": "stdout",
     "output_type": "stream",
     "text": [
      "Die Wahrscheinlichkeit, dass 2 Personen an verschiedenen Tagen Geburtstag haben, ist: 0.997260\n"
     ]
    }
   ],
   "source": [
    "def birthday_probability(n):\n",
    "    if n == 1:\n",
    "        return 1.0\n",
    "    elif n > 365:\n",
    "        return 0.0  # Mehr Personen als Tage, also unmöglich\n",
    "    else:\n",
    "        return birthday_probability(n - 1) * (365 - (n - 1)) / 365\n",
    "\n",
    "#n = 12 #hard code for testing\n",
    "try: \n",
    "    n = int(input(\"Gebe eine Personenanzahl (Nat) ein:\"))\n",
    "    if n < 1:\n",
    "        print(\"Gebe eine Natürliche Zahl ein\")\n",
    "    else:\n",
    "        probability = birthday_probability(n)\n",
    "        print(f\"Die Wahrscheinlichkeit, dass {n} Personen an verschiedenen Tagen Geburtstag haben, ist: {probability:.6f}\")\n",
    "except ValueError:\n",
    "    print(\"Gebe eine Natürliche Zahl ein.\")"
   ]
  },
  {
   "cell_type": "markdown",
   "metadata": {},
   "source": [
    "###  Aufgabe 3.9\n",
    "a) Rekursive Formel $n!$ :\n",
    "$n! = \n",
    "\\begin{cases}\n",
    "    1 \\text{ } \\text{ } \\text{ } \\text{ } \\text{ }\n",
    "    \\text{ } \\text{ } \\text{ } \\text{ } \\text{ }\n",
    "    \\text{ } \\text{ } \\text{ } \\text{ } \\text{ }\n",
    "    \\text{ } \\text{ } \\text{ }  \n",
    "    \\text{ Wenn } n = 0 \\\\\n",
    "    n \\times (n -1)! \\text{ Wenn } n > 0 \n",
    "\\end{cases}$"
   ]
  },
  {
   "cell_type": "code",
   "execution_count": 1,
   "metadata": {},
   "outputs": [
    {
     "name": "stdout",
     "output_type": "stream",
     "text": [
      "Die Fakultät von 4 ist 24\n"
     ]
    }
   ],
   "source": [
    "def fakultaet(n):\n",
    "    if n == 0:\n",
    "        return 1\n",
    "    else:\n",
    "        return n * fakultaet(n - 1)\n",
    "\n",
    "# Nutzereingabe\n",
    "try:\n",
    "    zahl = int(input(\"Bitte geben Sie eine natürliche Zahl ein: \"))\n",
    "    if zahl < 0:\n",
    "        print(\"Bitte geben Sie eine nicht-negative Zahl ein.\")\n",
    "    else:\n",
    "        print(f\"Die Fakultät von {zahl} ist {fakultaet(zahl)}\")\n",
    "except ValueError:\n",
    "    print(\"Ungültige Eingabe. Bitte geben Sie eine ganze Zahl ein.\")\n"
   ]
  },
  {
   "cell_type": "markdown",
   "metadata": {},
   "source": [
    "b) Rekursive Formel für den Binomialkoeffizienten \n",
    "$ \\binom{n}{k} $:\n",
    " \n",
    "$\\binom{n}{k} = \\begin{cases}\n",
    "    1     \\text{ } \\text{ } \\text{ } \\text{ } \\text{ }\n",
    "    \\text{ } \\text{ } \\text{ } \\text{ } \\text{ } \n",
    "    \\text{ } \\text{ } \\text{ } \\text{ } \\text{ } \n",
    "    \\text{ } \\text{ } \\text{ } \\text{ } \\text{ } \n",
    "    \\text{,Wenn } k = 0 \\text{ oder } k = n \\\\\n",
    "    0     \\text{ } \\text{ } \\text{ } \\text{ } \\text{ }\n",
    "    \\text{ } \\text{ } \\text{ } \\text{ } \\text{ } \n",
    "    \\text{ } \\text{ } \\text{ } \\text{ } \\text{ } \n",
    "    \\text{ } \\text{ } \\text{ } \\text{ } \\text{ }  \n",
    "    \\text{,Wenn } k > n \\\\\n",
    "    \\binom{n-1}{k -1} + \\binom{n -1}{k}  \n",
    "    \\text{, Andern falls } \n",
    "\\end{cases}$ \n"
   ]
  },
  {
   "cell_type": "code",
   "execution_count": 41,
   "metadata": {},
   "outputs": [
    {
     "name": "stdout",
     "output_type": "stream",
     "text": [
      "Der Binomialkoeffizient von 1 über 2 ist: 0\n"
     ]
    }
   ],
   "source": [
    "# 3.9b in Python\n",
    "def binomial_coefficient(n, k):\n",
    "    # Basisfälle\n",
    "    if k == 0 or k == n:\n",
    "        return 1\n",
    "    if k > n:\n",
    "        return 0\n",
    "    # Rekursive Berechnung\n",
    "    return binomial_coefficient(n - 1, k - 1) + binomial_coefficient(n - 1, k)\n",
    "\n",
    "# Hardcode input\n",
    "n = 1\n",
    "k = 2\n",
    "    \n",
    "binomial_coefficient(n, k)\n",
    "\n",
    "print(f\"Der Binomialkoeffizient von {n} über {k} ist: {binomial_coefficient(n, k)}\")\n"
   ]
  },
  {
   "cell_type": "markdown",
   "metadata": {},
   "source": [
    "# Aufgabe 3.10 \n",
    "Wir betrachten die folgende rekursiv definierte Folge:\n",
    "$$b_{n} =\n",
    "\\begin{cases} \n",
    "    1, \\text{für  } n = 1 \\\\\n",
    "    \\sqrt{1 + b_{n-1}}, \\text{für  } n > 2\n",
    "\n",
    "\\end{cases}$$\n",
    "\n",
    "Beweisen dass diese Folge gegen den goldenen Schnitt konvergiert:\n",
    "$$\n",
    "\\lim{n \\rightarrow \\inf} b_{n} = \\frac{1+ \\sqrt{5}}{2}  \n",
    "$$\n",
    "\n",
    "#### Antwort: \n",
    "Um zu zeigen, dass die rekursiv definierte Folge $ b_n $ gegen den goldenen Schnitt $\\phi = \\frac{1 + \\sqrt{5}}{2}$ konvergiert, betrachten wir die Definition der Folge:\n",
    "\n",
    "$$\n",
    "b_n = \\begin{cases} \n",
    "1, & \\text{für } n = 1 \\\\ \n",
    "\\sqrt{1 + b_{n-1}}, & \\text{für } n > 1 \n",
    "\\end{cases}\n",
    "$$\n",
    "\n",
    "##### Schritt 1: Zu Zeigen, dass die Folge beschränkt und monoton ist:\n",
    "\n",
    "Zuerst zeigen wir, dass die Folge $ b_n$ beschränkt ist. Wir vermuten, dass $ b_n < \\phi $ für alle $ n $. \\\\\n",
    "Wir zeigen dies durch Induktion.\n",
    "\n",
    "**Induktionsanfang:** Für $ n = 1$ haben wir $ b_1 = 1 < \\phi $.$\n",
    "\n",
    "**Induktionsannahme:** Angenommen, $ b_k < \\phi $ für ein $ k \\geq 1 .$\n",
    "\n",
    "**Induktionsschritt:** Wir zeigen, dass $_{k+1} < \\phi $:\n",
    "\n",
    "$$\n",
    "b_{k+1} = \\sqrt{1 + b_k} < \\sqrt{1 + \\phi}\n",
    "$$\n",
    "\n",
    "Da $ \\phi = \\frac{1 + \\sqrt{5}}{2} $, gilt:\n",
    "\n",
    "$\n",
    "\\sqrt{1 + \\phi} = \\sqrt{1 + \\frac{1 + \\sqrt{5}}{2}} = \\sqrt{\\frac{3 + \\sqrt{5}}{2}}\n",
    "$\n",
    "Nun zeigen wir, dass $\\sqrt{\\frac{3 + \\sqrt{5}}{2}} < \\phi $\n",
    "\n",
    "$$\n",
    "\\phi^2 = \\left(\\frac{1 + \\sqrt{5}}{2}\\right)^2 = \\frac{1 + 2\\sqrt{5} + 5}{4} = \\frac{6 + 2\\sqrt{5}}{4} = \\frac{3 + \\sqrt{5}}{2}\n",
    "$$\n",
    "\n",
    "Somit ist $ \\sqrt{1 + \\phi} < \\phi \\Rightarrow b_{k+1} < \\phi $.\n",
    "\n",
    "Durch Induktion folgt, dass $ b_n < \\phi $ für alle $ n $.\n",
    "\n",
    "##### Schritt 2: Zu Zeigen, dass die Folge monoton wächst\n",
    "\n",
    "Nun zeigen wir, dass $ b_n $ monoton wachsend ist, d.h. $ b_n < b_{n+1} \\forall n $.\n",
    "\\\\\n",
    "Wir zeigen dies durch vollsändige Induktion:\n",
    "\n",
    "**Induktionsanfang:** Für $n = 1$ haben wir $ b_1 = 1 < b_2 = \\sqrt{1 + 1} = \\sqrt{2} .$\n",
    "\n",
    "**Induktionsannahme:** Angenommen, $ b_k < b_{k+1} $\n",
    "\n",
    "**Induktionsschritt:** Wir zeigen, dass $b_{k+1} < b_{k+2} :$\n",
    "\n",
    "$$\n",
    "b_{k+2} = \\sqrt{1 + b_{k+1}}\n",
    "$$\n",
    "\n",
    "Da $ b_k < b_{k+1} $, gilt $ 1 + b_k < 1 + b_{k+1} .$ \n",
    "\n",
    "Da die Funktion $(x) = \\sqrt{1 + x}$ monoton wachsend ist, folgt: \n",
    "\n",
    "$$\n",
    "b_{k+1} = \\sqrt{1 + b_k} < \\sqrt{1 + b_{k+1}} = b_{k+2}\n",
    "$$\n",
    "\n",
    "Somit ist $ b_n $ monoton wachsend.\n",
    "\n",
    "Da $b_n$ eine monoton wachsende und beschränkte Folge ist, konvergiert sie. \n",
    "\n",
    "Sei $L = \\lim_{n \\to \\infty} b_n $ dann gilt:\n",
    "\n",
    "$$\n",
    "L = \\sqrt{1 + L}\n",
    "$$\n",
    "\n",
    "Quadrieren beider Seiten ergibt:\n",
    "\n",
    "$$\n",
    "L^2 = 1 + L \\implies L^2 - L - 1 = 0\n",
    "$$\n",
    "\n",
    "Die Lösungen dieser quadratischen Gleichung sind:\n",
    "\n",
    "$$\n",
    "L = \\frac{1 \\pm \\sqrt{5}}{2}\n",
    "$$\n",
    "\n",
    "Da $ b_n $ positiv ist, nehmen wir die positive Lösung:\n",
    "\n",
    "$$\n",
    "L = \\frac{1 + \\sqrt{5}}{2} = \\phi\n",
    "$$\n",
    "\n",
    "\n",
    "Wir haben gezeigt, dass die Folge $ b_n $ gegen den goldenen Schnitt konvergiert:\n",
    "\n",
    "$$\n",
    "\\lim_{n \\to \\infty} b_n = \\frac{1 + \\sqrt{5}}{2}\n",
    "$$\n",
    "$\\square$"
   ]
  },
  {
   "cell_type": "code",
   "execution_count": null,
   "metadata": {},
   "outputs": [],
   "source": []
  },
  {
   "cell_type": "code",
   "execution_count": null,
   "metadata": {},
   "outputs": [],
   "source": []
  }
 ],
 "metadata": {
  "kernelspec": {
   "display_name": "default",
   "language": "python",
   "name": "python3"
  },
  "language_info": {
   "codemirror_mode": {
    "name": "ipython",
    "version": 3
   },
   "file_extension": ".py",
   "mimetype": "text/x-python",
   "name": "python",
   "nbconvert_exporter": "python",
   "pygments_lexer": "ipython3",
   "version": "3.12.7"
  }
 },
 "nbformat": 4,
 "nbformat_minor": 2
}
